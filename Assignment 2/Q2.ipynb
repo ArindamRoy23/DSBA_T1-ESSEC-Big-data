{
 "cells": [
  {
   "cell_type": "code",
   "execution_count": 7,
   "id": "c34f5b17",
   "metadata": {},
   "outputs": [
    {
     "name": "stdout",
     "output_type": "stream",
     "text": [
      "Dictionary length: 236736\n",
      "['A', 'a', 'aa', 'aal', 'aalii', 'aam', 'Aani', 'aardvark', 'aardwolf', 'Aaron', 'Aaronic', 'Aaronical', 'Aaronite', 'Aaronitic', 'Aaru']\n"
     ]
    },
    {
     "name": "stderr",
     "output_type": "stream",
     "text": [
      "[nltk_data] Downloading package words to\n",
      "[nltk_data]     C:\\Users\\arind\\AppData\\Roaming\\nltk_data...\n",
      "[nltk_data]   Package words is already up-to-date!\n"
     ]
    }
   ],
   "source": [
    "import nltk\n",
    "nltk.download('words')\n",
    "from nltk.corpus import words\n",
    "word_list = words.words()\n",
    "print(f'Dictionary length: {len(word_list)}')\n",
    "print(word_list[:15])"
   ]
  },
  {
   "cell_type": "code",
   "execution_count": 2,
   "id": "ed3197a6",
   "metadata": {},
   "outputs": [
    {
     "name": "stderr",
     "output_type": "stream",
     "text": [
      "[nltk_data] Downloading package movie_reviews to\n",
      "[nltk_data]     C:\\Users\\arind\\AppData\\Roaming\\nltk_data...\n",
      "[nltk_data]   Package movie_reviews is already up-to-date!\n"
     ]
    }
   ],
   "source": [
    "from nltk.corpus import movie_reviews\n",
    "nltk.download('movie_reviews')\n",
    "neg_reviews = []\n",
    "pos_reviews = []\n",
    "for fileid in movie_reviews.fileids('neg'):\n",
    "    neg_reviews.extend(movie_reviews.words(fileid))\n",
    "for fileid in movie_reviews.fileids('pos'):\n",
    "    pos_reviews.extend(movie_reviews.words(fileid))"
   ]
  },
  {
   "cell_type": "code",
   "execution_count": 13,
   "id": "3ad2f266",
   "metadata": {},
   "outputs": [],
   "source": [
    "from bloom_filter import BloomFilter\n",
    "word_filter = BloomFilter(max_elements=236736)\n",
    "# word_filter.add(word_list)\n",
    "for w in word_list:\n",
    "    word_filter.add(w)\n",
    "word_set = set(word_list)"
   ]
  },
  {
   "cell_type": "code",
   "execution_count": 22,
   "id": "be322d14",
   "metadata": {},
   "outputs": [
    {
     "name": "stdout",
     "output_type": "stream",
     "text": [
      "word_list size is:  2055512\n",
      "word_filter size is:  48\n",
      "word_set size is:  8388824\n"
     ]
    }
   ],
   "source": [
    "from sys import getsizeof\n",
    "\n",
    "print(\"word_list size is: \",getsizeof(word_list))\n",
    "print(\"word_filter size is: \",getsizeof(word_filter))\n",
    "print(\"word_set size is: \",getsizeof(word_set))"
   ]
  },
  {
   "cell_type": "code",
   "execution_count": 30,
   "id": "a0e6bd17",
   "metadata": {},
   "outputs": [
    {
     "name": "stdout",
     "output_type": "stream",
     "text": [
      "9.07 µs ± 233 ns per loop (mean ± std. dev. of 3 runs, 100,000 loops each)\n",
      "250 µs ± 4.89 µs per loop (mean ± std. dev. of 3 runs, 1,000 loops each)\n",
      "33 ns ± 0.253 ns per loop (mean ± std. dev. of 3 runs, 10,000,000 loops each)\n"
     ]
    }
   ],
   "source": [
    "%timeit -r 3 'California' in word_filter\n",
    "%timeit -r 3 'California' in word_list\n",
    "%timeit -r 3 'California' in word_set"
   ]
  },
  {
   "cell_type": "code",
   "execution_count": 33,
   "id": "05d274b2",
   "metadata": {},
   "outputs": [],
   "source": [
    "def spell_check (list_of_words, to_check_ds):\n",
    "    count = 0\n",
    "    for word in list_of_words:\n",
    "        if word not in to_check_ds:\n",
    "            count = count + 1 \n",
    "    return(count)\n",
    "            "
   ]
  },
  {
   "cell_type": "code",
   "execution_count": 43,
   "id": "1fb2f304",
   "metadata": {},
   "outputs": [
    {
     "name": "stdout",
     "output_type": "stream",
     "text": [
      "2931\n",
      "2684\n",
      "2931\n",
      "12.6 s ± 72.6 ms per loop (mean ± std. dev. of 3 runs, 1 loop each)\n",
      "54 ms ± 923 µs per loop (mean ± std. dev. of 3 runs, 10 loops each)\n",
      "532 µs ± 4.04 µs per loop (mean ± std. dev. of 3 runs, 1,000 loops each)\n"
     ]
    }
   ],
   "source": [
    "# Checking for shorter list length for testing \n",
    "print(spell_check(pos_reviews[:10000], word_list))\n",
    "print(spell_check(pos_reviews[:10000], word_filter))\n",
    "print(spell_check(pos_reviews[:10000], word_set))\n",
    "%timeit -r 3 spell_check(pos_reviews[:10000], word_list)\n",
    "%timeit -r 3 spell_check(pos_reviews[:10000], word_filter)\n",
    "%timeit -r 3 spell_check(pos_reviews[:10000], word_set)"
   ]
  }
 ],
 "metadata": {
  "kernelspec": {
   "display_name": "Python 3 (ipykernel)",
   "language": "python",
   "name": "python3"
  },
  "language_info": {
   "codemirror_mode": {
    "name": "ipython",
    "version": 3
   },
   "file_extension": ".py",
   "mimetype": "text/x-python",
   "name": "python",
   "nbconvert_exporter": "python",
   "pygments_lexer": "ipython3",
   "version": "3.9.12"
  }
 },
 "nbformat": 4,
 "nbformat_minor": 5
}
