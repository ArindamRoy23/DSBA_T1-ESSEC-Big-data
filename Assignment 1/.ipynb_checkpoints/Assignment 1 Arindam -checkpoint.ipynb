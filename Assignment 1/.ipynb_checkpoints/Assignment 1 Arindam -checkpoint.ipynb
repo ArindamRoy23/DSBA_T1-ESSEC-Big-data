{
 "cells": [
  {
   "cell_type": "code",
   "execution_count": 79,
   "id": "19a2bc43",
   "metadata": {},
   "outputs": [],
   "source": [
    "def str_cleaner (in_str):\n",
    "    '''\n",
    "    Input: string \n",
    "    Output: Lower string with no spaces, tabs or whitespaces\n",
    "    '''\n",
    "    out_str = in_str.lower().strip().replace(\" \", \"\").replace('\\t', \"\")\n",
    "    return(out_str)\n",
    "\n",
    "def shingles(in_str):\n",
    "    '''\n",
    "    Input: string \n",
    "    Output: 3 character set of string\n",
    "    '''\n",
    "    in_str = str_cleaner(in_str)\n",
    "    output_lst = []\n",
    "    for i in range(0, len(in_str)-2):\n",
    "        output_lst.append(in_str[:3])\n",
    "        in_str = in_str[1:]\n",
    "    return(set(output_lst))\n",
    "\n",
    "def jacard_sim (set_a, set_b):\n",
    "    '''\n",
    "    Input: Two sets  \n",
    "    Output: Jacard similarity of sets \n",
    "    '''\n",
    "    common_count  = len(set_a.intersection(set_b))\n",
    "    union_count = len(set_a.union(set_b))\n",
    "    return(common_count/union_count)\n",
    "def minhash(question, compare_question):\n",
    "    '''\n",
    "    Input: Two sets of strings\n",
    "    Output: Jacard Similarity of the two strings \n",
    "    '''\n",
    "    return(jacard_sim(shingles(question),shingles(compare_question)))"
   ]
  },
  {
   "cell_type": "code",
   "execution_count": 80,
   "id": "ccd23389",
   "metadata": {},
   "outputs": [],
   "source": []
  },
  {
   "cell_type": "code",
   "execution_count": 81,
   "id": "f8de9d32",
   "metadata": {},
   "outputs": [
    {
     "data": {
      "text/plain": [
       "0.4"
      ]
     },
     "execution_count": 81,
     "metadata": {},
     "output_type": "execute_result"
    }
   ],
   "source": [
    "a = 'I have a cat'\n",
    "b = 'I have a dog'\n",
    "minhash(a,b)"
   ]
  },
  {
   "cell_type": "code",
   "execution_count": 74,
   "id": "044cc62a",
   "metadata": {},
   "outputs": [],
   "source": [
    "# shingles(a)"
   ]
  }
 ],
 "metadata": {
  "kernelspec": {
   "display_name": "Python 3 (ipykernel)",
   "language": "python",
   "name": "python3"
  },
  "language_info": {
   "codemirror_mode": {
    "name": "ipython",
    "version": 3
   },
   "file_extension": ".py",
   "mimetype": "text/x-python",
   "name": "python",
   "nbconvert_exporter": "python",
   "pygments_lexer": "ipython3",
   "version": "3.9.12"
  }
 },
 "nbformat": 4,
 "nbformat_minor": 5
}
