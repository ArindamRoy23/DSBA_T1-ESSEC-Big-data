{
 "cells": [
  {
   "cell_type": "markdown",
   "id": "9de140af",
   "metadata": {},
   "source": [
    "# <font color=darkred> IDSS32102</font>"
   ]
  },
  {
   "cell_type": "markdown",
   "id": "704eea9e",
   "metadata": {},
   "source": [
    "<h1><center> Sparse Implementation of LSH</center></h1>\n",
    "\n",
    "Locality Sensitive Hashing (LSH) can be implemented for both sparse and dense vectors. In this notebook we will implement the algorithm for searching sparse vectors. We will be using k-shingling and minhashing to create our sparse vectors before applying them for search with LSH.\n",
    "\n"
   ]
  },
  {
   "cell_type": "markdown",
   "id": "85bce9ec",
   "metadata": {},
   "source": [
    "# k-shingling:\n",
    "\n",
    "We start by defining a few sentences."
   ]
  },
  {
   "cell_type": "code",
   "execution_count": 1,
   "id": "ada9a771",
   "metadata": {},
   "outputs": [],
   "source": [
    "a = \"flying bird found in the space\"\n",
    "b = \"he will not allow you to bring your sticks of dynamite and pet armadillo along\"\n",
    "c = \"he figured a few sticks of dynamite were easier than a fishing pole to catch an armadillo\""
   ]
  },
  {
   "cell_type": "markdown",
   "id": "be2df312",
   "metadata": {},
   "source": [
    "The first thing we do is create our shingles, we will use k-shingles where k == 2. For longer text it is recommended to create shingles where it is unlikely to produce matching shingles between non-matching text, k values of 7 to 11 would likely produce this outcome.\n"
   ]
  },
  {
   "cell_type": "code",
   "execution_count": 2,
   "id": "549aabb9",
   "metadata": {},
   "outputs": [
    {
     "name": "stdout",
     "output_type": "stream",
     "text": [
      "fl|ly|yi|in|ng|g | b|bi|ir|rd|d | f|fo|ou|un|nd|d | i|in|n | t|th|he|e | s|sp|pa|ac|ce|"
     ]
    }
   ],
   "source": [
    "k = 2\n",
    "for i in range(len(a) - k+1):\n",
    "    print(a[i: i+k], end='|')\n"
   ]
  },
  {
   "cell_type": "markdown",
   "id": "1204bb60",
   "metadata": {},
   "source": [
    "These are our shingles, however, we must remove duplicate values as we are producing a set. We do this using the Python type set. \n",
    "\n",
    "1) Define a shingle function to apply shingling to each of our sentences:\n"
   ]
  },
  {
   "cell_type": "code",
   "execution_count": 5,
   "id": "1a9344d9",
   "metadata": {},
   "outputs": [],
   "source": [
    "def shingle(text: str, k: int):\n",
    "    shingle_set = []\n",
    "    for i in range(len(text) - k+1):\n",
    "        shingle_set.append(text[i: i+k])\n",
    "\n",
    "    return set(shingle_set)"
   ]
  },
  {
   "cell_type": "code",
   "execution_count": 6,
   "id": "77e77b55",
   "metadata": {},
   "outputs": [
    {
     "name": "stdout",
     "output_type": "stream",
     "text": [
      "{'ce', 'in', 'n ', ' s', ' i', ' t', 'un', 'bi', ' b', 'ac', 'g ', 'fl', 'e ', 'ly', 'yi', 'rd', 'ou', 'fo', ' f', 'th', 'sp', 'nd', 'pa', 'ir', 'd ', 'ng', 'he'}\n"
     ]
    }
   ],
   "source": [
    "a = shingle(a, k)\n",
    "b = shingle(b, k)\n",
    "c = shingle(c, k)\n",
    "print(a)"
   ]
  },
  {
   "cell_type": "markdown",
   "id": "4a887bff",
   "metadata": {},
   "source": [
    "Now that we have our three shingles we create a shingle vocabulary by create a union between all three sets."
   ]
  },
  {
   "cell_type": "code",
   "execution_count": 7,
   "id": "0702837e",
   "metadata": {},
   "outputs": [
    {
     "name": "stdout",
     "output_type": "stream",
     "text": [
      "['ti', 's ', 'il', 'na', 'pe', 'yo', 'on', 'in', 'ic', 'a ', ' s', 'to', 'hi', ' i', ' c', 'di', 'it', 'ol', 'rm', 'at', 'un', 'st', 'ch', 'ma', 'f ', 'u ', ' e', ' n', 'le', 'bi', ' y', ' b', 'ac', 'ad', 'fl', 'e ', 'ed', 'ly', 'rd', 'ie', 'ot', 'ou', 'as', 'th', 'sp', 'an', 'tc', ' d', 'te', 'mi', 'ir', 't ', 'we', 'ng', 'ow', 'he', 'al', 'of', 'am', 'r ', 'ce', 'po', 'ck', 'br', ' o', 'sh', 'ar', 'wi', 'l ', 'fe', 'ur', 'n ', 'h ', 're', 'yn', 'ha', ' t', 'ig', 'ea', ' a', 'er', 'si', 'no', 'et', 'o ', 'ri', 'g ', 'fi', 'yi', 'gu', 'lo', 'fo', ' f', 'is', 'll', ' p', 'nd', 'w ', 'dy', 'ca', 'pa', 'd ', 'ks', ' w', 'ew']\n"
     ]
    }
   ],
   "source": [
    "vocab = list(a.union(b).union(c))\n",
    "print(vocab)"
   ]
  },
  {
   "cell_type": "markdown",
   "id": "6f1b0c18",
   "metadata": {},
   "source": [
    "Using this vocab we can create one-hot encoded sparse vectors to represent our shingles."
   ]
  },
  {
   "cell_type": "code",
   "execution_count": 9,
   "id": "5b327913",
   "metadata": {},
   "outputs": [
    {
     "name": "stdout",
     "output_type": "stream",
     "text": [
      "[0, 0, 0, 0, 0, 0, 0, 1, 0, 0, 1, 0, 0, 1, 0, 0, 0, 0, 0, 0, 1, 0, 0, 0, 0, 0, 0, 0, 0, 1, 0, 1, 1, 0, 1, 1, 0, 1, 1, 0, 0, 1, 0, 1, 1, 0, 0, 0, 0, 0, 1, 0, 0, 1, 0, 1, 0, 0, 0, 0, 1, 0, 0, 0, 0, 0, 0, 0, 0, 0, 0, 1, 0, 0, 0, 0, 1, 0, 0, 0, 0, 0, 0, 0, 0, 0, 1, 0, 1, 0, 0, 1, 1, 0, 0, 0, 1, 0, 0, 0, 1, 1, 0, 0, 0]\n"
     ]
    }
   ],
   "source": [
    "a_1hot = [1 if x in a else 0 for x in vocab]\n",
    "b_1hot = [1 if x in b else 0 for x in vocab]\n",
    "c_1hot = [1 if x in c else 0 for x in vocab]\n",
    "print(a_1hot)"
   ]
  },
  {
   "cell_type": "markdown",
   "id": "1fcd187c",
   "metadata": {},
   "source": [
    "So we now have one-hot encoded sparse vectors we can move onto minhashing."
   ]
  },
  {
   "cell_type": "markdown",
   "id": "fcb15d03",
   "metadata": {},
   "source": [
    "# Minhashing\n",
    "\n",
    "Minhashing is the next step in our process. After creating our shingle sets we use minhashing to create signatures from those sets.\n",
    "\n",
    "To create our minhashing function we build several hash functions, each will randomly count from 1 to len(vocab) + 1 - creating a random vector:\n"
   ]
  },
  {
   "cell_type": "code",
   "execution_count": null,
   "id": "e33227ef",
   "metadata": {},
   "outputs": [],
   "source": [
    "#np.arange()"
   ]
  },
  {
   "cell_type": "code",
   "execution_count": 10,
   "id": "da4f0e44",
   "metadata": {},
   "outputs": [
    {
     "name": "stdout",
     "output_type": "stream",
     "text": [
      "[1, 2, 3, 4, 5, 6, 7, 8, 9, 10, 11, 12, 13, 14, 15, 16, 17, 18, 19, 20, 21, 22, 23, 24, 25, 26, 27, 28, 29, 30, 31, 32, 33, 34, 35, 36, 37, 38, 39, 40, 41, 42, 43, 44, 45, 46, 47, 48, 49, 50, 51, 52, 53, 54, 55, 56, 57, 58, 59, 60, 61, 62, 63, 64, 65, 66, 67, 68, 69, 70, 71, 72, 73, 74, 75, 76, 77, 78, 79, 80, 81, 82, 83, 84, 85, 86, 87, 88, 89, 90, 91, 92, 93, 94, 95, 96, 97, 98, 99, 100, 101, 102, 103, 104, 105]\n"
     ]
    }
   ],
   "source": [
    "hash_ex = list(range(1, len(vocab)+1))\n",
    "print(hash_ex)  # we haven't shuffled yet"
   ]
  },
  {
   "cell_type": "code",
   "execution_count": 12,
   "id": "3723fcc9",
   "metadata": {},
   "outputs": [
    {
     "name": "stdout",
     "output_type": "stream",
     "text": [
      "[50, 83, 31, 43, 78, 47, 5, 46, 18, 58, 23, 29, 35, 64, 89, 41, 28, 70, 61, 42, 53, 92, 9, 69, 27, 75, 8, 49, 7, 90, 73, 26, 81, 12, 39, 25, 66, 34, 54, 67, 71, 15, 65, 48, 85, 24, 87, 44, 62, 55, 82, 105, 97, 16, 10, 2, 36, 17, 4, 98, 51, 45, 86, 79, 1, 74, 63, 59, 40, 20, 19, 57, 3, 11, 38, 100, 6, 32, 95, 102, 56, 96, 37, 14, 72, 94, 22, 30, 93, 21, 103, 77, 84, 68, 99, 13, 76, 104, 80, 88, 60, 101, 52, 33, 91]\n"
     ]
    }
   ],
   "source": [
    "from random import shuffle\n",
    "\n",
    "shuffle(hash_ex)\n",
    "print(hash_ex)"
   ]
  },
  {
   "cell_type": "markdown",
   "id": "35d7d901",
   "metadata": {},
   "source": [
    "We now have a randomized list of integers which we can use in creating our hashed signatures. What we do now is begin counting from 1 through to len(vocab) + 1, extracting the position of this number in our new hash_ex list, like so (for the first few integers):\n"
   ]
  },
  {
   "cell_type": "code",
   "execution_count": 13,
   "id": "a51a6ec1",
   "metadata": {},
   "outputs": [
    {
     "name": "stdout",
     "output_type": "stream",
     "text": [
      "1 -> 64\n",
      "2 -> 55\n",
      "3 -> 72\n",
      "4 -> 58\n"
     ]
    }
   ],
   "source": [
    "for i in range(1, 5):\n",
    "    print(f\"{i} -> {hash_ex.index(i)}\")"
   ]
  },
  {
   "cell_type": "markdown",
   "id": "03249f75",
   "metadata": {},
   "source": [
    "\n",
    "What we do with this is count up from 1 to len(vocab) + 1 and find if the resultant hash_ex.index(i) position in our one-hot encoded vectors contains a positive value (1) in that position, like so:\n"
   ]
  },
  {
   "cell_type": "code",
   "execution_count": 14,
   "id": "52bd9549",
   "metadata": {},
   "outputs": [
    {
     "name": "stdout",
     "output_type": "stream",
     "text": [
      "1 -> 64 -> 0\n",
      "2 -> 55 -> 1\n",
      "match!\n"
     ]
    }
   ],
   "source": [
    "for i in range(1, len(vocab)+1):\n",
    "    idx = hash_ex.index(i)\n",
    "    signature_val = a_1hot[idx]\n",
    "    print(f\"{i} -> {idx} -> {signature_val}\")\n",
    "    if signature_val == 1:\n",
    "        print('match!')\n",
    "        break"
   ]
  },
  {
   "cell_type": "markdown",
   "id": "49300b8a",
   "metadata": {},
   "source": [
    "That gives us a first signature of some value. But this is just a single value, and it takes many values to create a signature (100 for example).\n",
    "\n",
    "So, how to we generate these other values? By using more hash functions! Let's generate a set of hash functions to create a signature vector of length 20.\n",
    "\n",
    "hash_funcs = []\n",
    "\n",
    "for _ in range(20)\n"
   ]
  },
  {
   "cell_type": "code",
   "execution_count": 15,
   "id": "d34d4b4d",
   "metadata": {},
   "outputs": [
    {
     "name": "stdout",
     "output_type": "stream",
     "text": [
      "hash function 1:\n",
      "[96, 62, 80, 93, 6, 18, 40, 28, 63, 44, 101, 86, 69, 67, 82, 9, 24, 103, 87, 47, 30, 37, 77, 75, 34, 2, 78, 39, 76, 64, 104, 99, 19, 60, 21, 59, 20, 105, 32, 4, 52, 90, 70, 25, 49, 10, 100, 33, 92, 50, 12, 57, 26, 68, 56, 65, 97, 42, 35, 84, 46, 71, 23, 102, 74, 89, 43, 3, 13, 98, 22, 31, 81, 15, 85, 58, 51, 72, 95, 36, 11, 66, 38, 48, 7, 94, 1, 83, 88, 5, 53, 17, 61, 27, 8, 14, 16, 45, 79, 54, 91, 29, 55, 41, 73]\n",
      "hash function 2:\n",
      "[59, 98, 72, 7, 6, 95, 9, 48, 102, 64, 27, 86, 38, 80, 49, 40, 76, 81, 91, 3, 17, 42, 104, 32, 92, 31, 66, 30, 46, 29, 12, 54, 67, 16, 21, 83, 51, 25, 47, 1, 35, 87, 23, 39, 78, 69, 14, 43, 41, 94, 93, 13, 65, 71, 52, 8, 18, 84, 22, 68, 100, 50, 60, 56, 74, 53, 70, 61, 34, 105, 36, 85, 89, 97, 77, 37, 90, 20, 75, 4, 2, 58, 96, 101, 103, 45, 33, 5, 28, 26, 15, 24, 19, 99, 73, 11, 82, 63, 10, 55, 62, 44, 88, 79, 57]\n",
      "hash function 3:\n",
      "[102, 8, 76, 88, 55, 60, 93, 46, 74, 81, 83, 87, 99, 7, 40, 29, 39, 79, 54, 11, 26, 48, 85, 42, 53, 78, 41, 3, 50, 24, 67, 64, 68, 66, 97, 51, 33, 101, 37, 15, 71, 13, 10, 17, 56, 98, 28, 69, 35, 14, 47, 77, 100, 94, 73, 21, 86, 32, 18, 58, 104, 57, 70, 84, 9, 34, 80, 5, 12, 90, 72, 52, 38, 1, 2, 20, 25, 31, 91, 22, 16, 4, 49, 62, 65, 105, 89, 44, 92, 23, 6, 36, 30, 103, 43, 95, 59, 27, 82, 96, 61, 19, 45, 75, 63]\n"
     ]
    }
   ],
   "source": [
    "hash_funcs = []\n",
    "\n",
    "for _ in range(20):\n",
    "    hash_ex = list(range(1, len(vocab)+1))\n",
    "    shuffle(hash_ex)\n",
    "    hash_funcs.append(hash_ex)\n",
    "\n",
    "for i in range(3):\n",
    "    print(f\"hash function {i+1}:\")\n",
    "    print(hash_funcs[i])"
   ]
  },
  {
   "cell_type": "markdown",
   "id": "b5d2a1b5",
   "metadata": {},
   "source": [
    "We're only showing the first three hash functions here - we have 20 in total. To create our signatures we simply process each one-hot vector through each hash function, appending the output value to our signature for that vector.\n",
    "\n",
    "2) Complete the following signature code:\n"
   ]
  },
  {
   "cell_type": "code",
   "execution_count": 16,
   "id": "755b47fe",
   "metadata": {},
   "outputs": [
    {
     "name": "stdout",
     "output_type": "stream",
     "text": [
      "[86, 55, 13, 96, 10, 50, 41, 86, 53, 35, 96, 10, 20, 20, 100, 100, 53, 60, 53, 53]\n"
     ]
    }
   ],
   "source": [
    "signature = []\n",
    "\n",
    "for func in hash_funcs:\n",
    "    for i in range(1, len(vocab)+1):\n",
    "        idx = func.index(i)\n",
    "        signature_val = a_1hot[idx]\n",
    "        if signature_val == 1:\n",
    "            signature.append(idx)\n",
    "            break\n",
    "\n",
    "print(signature)"
   ]
  },
  {
   "cell_type": "markdown",
   "id": "3bbaed1a",
   "metadata": {},
   "source": [
    "And there we have our minhash produced signature for a. Let's clean up the code and formalize the process a little.\n"
   ]
  },
  {
   "cell_type": "code",
   "execution_count": 17,
   "id": "a38cf342",
   "metadata": {},
   "outputs": [],
   "source": [
    "def create_hash_func(size: int):\n",
    "    # function for creating the hash vector/function\n",
    "    hash_ex = list(range(1, size+1))\n",
    "    shuffle(hash_ex)\n",
    "    return hash_ex\n",
    "\n",
    "def build_minhash_func(vocab_size: int, nbits: int):\n",
    "    # function for building multiple minhash vectors\n",
    "    hashes = []\n",
    "    for _ in range(nbits):\n",
    "        hashes.append(create_hash_func(vocab_size))\n",
    "    return hashes\n",
    "\n",
    "# we create 20 minhash vectors\n",
    "minhash_func = build_minhash_func(len(vocab), 20)"
   ]
  },
  {
   "cell_type": "markdown",
   "id": "ba4cfa5a",
   "metadata": {},
   "source": [
    "3) Write a signature function:"
   ]
  },
  {
   "cell_type": "code",
   "execution_count": 19,
   "id": "19c37f67",
   "metadata": {},
   "outputs": [],
   "source": [
    "def create_hash(vector: list):\n",
    "    # use this function for creating our signatures (eg the matching)\n",
    "    signature = []\n",
    "    for func in minhash_func:\n",
    "        for i in range(1, len(vocab)+1):\n",
    "            idx = func.index(i)\n",
    "            signature_val = vector[idx]\n",
    "            if signature_val == 1:\n",
    "                signature.append(idx)\n",
    "                break\n",
    "\n",
    "    return signature"
   ]
  },
  {
   "cell_type": "code",
   "execution_count": 20,
   "id": "1e86763e",
   "metadata": {},
   "outputs": [],
   "source": [
    "a_sig = create_hash(a_1hot)\n",
    "b_sig = create_hash(b_1hot)\n",
    "c_sig = create_hash(c_1hot)"
   ]
  },
  {
   "cell_type": "code",
   "execution_count": 21,
   "id": "8df53a6f",
   "metadata": {},
   "outputs": [
    {
     "name": "stdout",
     "output_type": "stream",
     "text": [
      "[60, 10, 88, 76, 41, 13, 20, 88, 101, 96, 38, 38, 43, 7, 55, 53, 96, 38, 13, 37]\n",
      "[4, 10, 45, 76, 27, 70, 85, 86, 18, 3, 11, 56, 6, 18, 47, 15, 59, 84, 98, 94]\n"
     ]
    }
   ],
   "source": [
    "print(a_sig)\n",
    "print(b_sig)"
   ]
  },
  {
   "cell_type": "markdown",
   "id": "77a9fde4",
   "metadata": {},
   "source": [
    "We now have our three minhashed signatures! These signatures, despite being seemingly randomized, will on average have the very similar Jaccard similarity values as our previous sparse vectors. We have reduced the dimensionality of our vectors significantly - but maintained the same information!\n",
    "\n",
    "4) Write a Jaccard similarity function:\n"
   ]
  },
  {
   "cell_type": "code",
   "execution_count": 22,
   "id": "e2f13015",
   "metadata": {},
   "outputs": [],
   "source": [
    "# Jaccard sim = intersection / union\n",
    "\n",
    "def jaccard(a: set, b: set):\n",
    "    return len(a.intersection(b)) / len(a.union(b))"
   ]
  },
  {
   "cell_type": "markdown",
   "id": "5a816c2e",
   "metadata": {},
   "source": [
    "a should have lower similarity with b and c:"
   ]
  },
  {
   "cell_type": "code",
   "execution_count": 23,
   "id": "cc9205e8",
   "metadata": {},
   "outputs": [
    {
     "data": {
      "text/plain": [
       "(0.14285714285714285, 0.0625)"
      ]
     },
     "execution_count": 23,
     "metadata": {},
     "output_type": "execute_result"
    }
   ],
   "source": [
    "jaccard(a, b), jaccard(set(a_sig), set(b_sig))"
   ]
  },
  {
   "cell_type": "code",
   "execution_count": 24,
   "id": "242535d1",
   "metadata": {},
   "outputs": [
    {
     "data": {
      "text/plain": [
       "(0.12359550561797752, 0.03225806451612903)"
      ]
     },
     "execution_count": 24,
     "metadata": {},
     "output_type": "execute_result"
    }
   ],
   "source": [
    "jaccard(a, c), jaccard(set(a_sig), set(c_sig))"
   ]
  },
  {
   "cell_type": "code",
   "execution_count": 25,
   "id": "0506238c",
   "metadata": {},
   "outputs": [
    {
     "data": {
      "text/plain": [
       "(0.45652173913043476, 0.5)"
      ]
     },
     "execution_count": 25,
     "metadata": {},
     "output_type": "execute_result"
    }
   ],
   "source": [
    "jaccard(b, c), jaccard(set(b_sig), set(c_sig))"
   ]
  },
  {
   "cell_type": "markdown",
   "id": "be210ee6",
   "metadata": {},
   "source": [
    "We're now ready to move onto the LSH process.\n",
    "\n",
    "## Locality Sensitive Hashing\n",
    "\n",
    "The approach we will be taking in this notebook is break our signature vector into multiple bands, creating several sub-vectors.\n",
    "\n",
    "We then hash each of these sub-vectors into a set of buckets, if we find that two sub-vectors from two signature vectors collide (end up in the same hash bucket) we take the two full signature vectors as candidate pairs - which we then compare in full with a similarity metric (like Jaccard similarity, cosine similarity, etc).\n",
    "\n",
    "There is no 'set' way to hash our signature vectors, and in-fact the simplest approach is to check for equivalence across sub-vectors, which will be our approach.\n",
    "\n",
    "First, we must define the number of buckets b we would like to create. It's important to note that each bucket must contain an equal number of rows r - and so our signature length must be divisible by b.\n"
   ]
  },
  {
   "cell_type": "code",
   "execution_count": 26,
   "id": "f7b16507",
   "metadata": {},
   "outputs": [],
   "source": [
    "def split_vector(signature, b):\n",
    "    assert len(signature) % b == 0\n",
    "    r = int(len(signature) / b)\n",
    "    # code splitting signature in b parts\n",
    "    subvecs = []\n",
    "    for i in range(0, len(signature), r):\n",
    "        subvecs.append(signature[i : i+r])\n",
    "    return subvecs"
   ]
  },
  {
   "cell_type": "markdown",
   "id": "93d30090",
   "metadata": {},
   "source": [
    "We'll start by splitting into 10 bands, creating rows of 2 - on the small side to be used in a genuine LSH function but good for our example (we'll explore different r and b values soon).\n",
    "\n",
    "Let's start with our b and c vectors, which should hopefully match in at least one band."
   ]
  },
  {
   "cell_type": "code",
   "execution_count": 30,
   "id": "433e6b30",
   "metadata": {},
   "outputs": [
    {
     "data": {
      "text/plain": [
       "[[4, 10],\n",
       " [45, 76],\n",
       " [27, 70],\n",
       " [85, 86],\n",
       " [18, 3],\n",
       " [11, 56],\n",
       " [6, 18],\n",
       " [47, 15],\n",
       " [59, 84],\n",
       " [98, 94]]"
      ]
     },
     "execution_count": 30,
     "metadata": {},
     "output_type": "execute_result"
    }
   ],
   "source": [
    "band_b = split_vector(b_sig, 10)\n",
    "band_b"
   ]
  },
  {
   "cell_type": "code",
   "execution_count": 31,
   "id": "ff3c3b6d",
   "metadata": {},
   "outputs": [
    {
     "data": {
      "text/plain": [
       "[[45, 89],\n",
       " [65, 76],\n",
       " [17, 70],\n",
       " [17, 89],\n",
       " [18, 3],\n",
       " [11, 26],\n",
       " [21, 18],\n",
       " [47, 15],\n",
       " [59, 84],\n",
       " [98, 94]]"
      ]
     },
     "execution_count": 31,
     "metadata": {},
     "output_type": "execute_result"
    }
   ],
   "source": [
    "band_c = split_vector(c_sig, 10)\n",
    "band_c"
   ]
  },
  {
   "cell_type": "markdown",
   "id": "b5057ee4",
   "metadata": {},
   "source": [
    "Check if they match (we'll rewrite some of this into Numpy soon)."
   ]
  },
  {
   "cell_type": "code",
   "execution_count": 32,
   "id": "8781597a",
   "metadata": {},
   "outputs": [
    {
     "name": "stdout",
     "output_type": "stream",
     "text": [
      "Candidate pair: [18, 3] == [18, 3]\n"
     ]
    }
   ],
   "source": [
    "for b_rows, c_rows in zip(band_b, band_c):\n",
    "    if b_rows == c_rows:\n",
    "        print(f\"Candidate pair: {b_rows} == {c_rows}\")\n",
    "        # we only need one band to match\n",
    "        break"
   ]
  },
  {
   "cell_type": "markdown",
   "id": "53500ee0",
   "metadata": {},
   "source": [
    "And let's do the same for a."
   ]
  },
  {
   "cell_type": "code",
   "execution_count": 33,
   "id": "e01f01b4",
   "metadata": {},
   "outputs": [],
   "source": [
    "band_a = split_vector(a_sig, 10)"
   ]
  },
  {
   "cell_type": "code",
   "execution_count": 34,
   "id": "9f867ec8",
   "metadata": {},
   "outputs": [],
   "source": [
    "for a_rows, b_rows in zip(band_a, band_b):\n",
    "    if a_rows == b_rows:\n",
    "        print(f\"Candidate pair: {a_rows} == {b_rows}\")\n",
    "        # we only need one band to match\n",
    "        break"
   ]
  },
  {
   "cell_type": "code",
   "execution_count": 35,
   "id": "bb7d5020",
   "metadata": {},
   "outputs": [],
   "source": [
    "for a_rows, c_rows in zip(band_a, band_c):\n",
    "    if a_rows == c_rows:\n",
    "        print(f\"Candidate pair: {a_rows} == {c_rows}\")\n",
    "        # we only need one band to match\n",
    "        break"
   ]
  },
  {
   "cell_type": "markdown",
   "id": "fa160963",
   "metadata": {},
   "source": [
    "Okay great, so even with this very simple implementation - we most likely managed to identify sentences b and c as candidate pairs, and identify a as a non-candidate.\n"
   ]
  },
  {
   "cell_type": "markdown",
   "id": "46f7dff9",
   "metadata": {},
   "source": [
    "## Tuning LSH\n",
    "\n",
    "We can visualize the probability of returning a candidate pair vs the similarity of the pair for different values of r and b (rows and bands respectively) like so:\n"
   ]
  },
  {
   "cell_type": "code",
   "execution_count": 37,
   "id": "36346f2f",
   "metadata": {},
   "outputs": [],
   "source": [
    "def probability(s, r, b):\n",
    "    # s: similarity\n",
    "    # r: rows (per band)\n",
    "    # b: number of bands\n",
    "    return 1 - (1 - s**r)**b"
   ]
  },
  {
   "cell_type": "code",
   "execution_count": 38,
   "id": "66f074c4",
   "metadata": {},
   "outputs": [],
   "source": [
    "import numpy as np\n",
    "import pandas as pd\n",
    "import matplotlib.pyplot as plt\n",
    "import seaborn as sns"
   ]
  },
  {
   "cell_type": "code",
   "execution_count": 39,
   "id": "09245de6",
   "metadata": {},
   "outputs": [],
   "source": [
    "results = pd.DataFrame({\n",
    "    's': [],\n",
    "    'P': [],\n",
    "    'r,b': []\n",
    "})\n",
    "\n",
    "for s in np.arange(0.01, 1, 0.01):\n",
    "    total = 100\n",
    "    for b in [100, 50, 25, 20, 10, 5, 4, 2, 1]:\n",
    "        r = int(total/b)\n",
    "        P = probability(s, r, b)\n",
    "        results = results.append({\n",
    "            's': s,\n",
    "            'P': P,\n",
    "            'r,b': f\"{r},{b}\"\n",
    "        }, ignore_index=True)"
   ]
  },
  {
   "cell_type": "code",
   "execution_count": 40,
   "id": "1f588f88",
   "metadata": {},
   "outputs": [
    {
     "data": {
      "image/png": "[encoded data removed]",
      "text/plain": [
       "<Figure size 432x288 with 1 Axes>"
      ]
     },
     "metadata": {
      "needs_background": "light"
     },
     "output_type": "display_data"
    }
   ],
   "source": [
    "# sns.lineplot(data=results, x='s', y='P', hue='r,b')\n",
    "\n",
    "ax = sns.lineplot(data=results, x='s', y='P', hue='r,b')\n",
    "ax.set(xlabel='True similarity', ylabel='P(candidate pair)')\n",
    "plt.show()"
   ]
  },
  {
   "cell_type": "code",
   "execution_count": null,
   "id": "4860706f",
   "metadata": {},
   "outputs": [],
   "source": []
  }
 ],
 "metadata": {
  "kernelspec": {
   "display_name": "Python 3 (ipykernel)",
   "language": "python",
   "name": "python3"
  },
  "language_info": {
   "codemirror_mode": {
    "name": "ipython",
    "version": 3
   },
   "file_extension": ".py",
   "mimetype": "text/x-python",
   "name": "python",
   "nbconvert_exporter": "python",
   "pygments_lexer": "ipython3",
   "version": "3.9.12"
  },
  "vscode": {
   "interpreter": {
    "hash": "4d45a8b0143f640e47078c8e28a07a95d5ab34938eb974c51e60e227b64f716a"
   }
  }
 },
 "nbformat": 4,
 "nbformat_minor": 5
}
